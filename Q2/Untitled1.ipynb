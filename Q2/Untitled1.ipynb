{
 "cells": [
  {
   "cell_type": "code",
   "execution_count": 1,
   "id": "hidden-trinity",
   "metadata": {},
   "outputs": [],
   "source": [
    "import cv2 "
   ]
  },
  {
   "cell_type": "code",
   "execution_count": null,
   "id": "micro-bubble",
   "metadata": {},
   "outputs": [],
   "source": []
  },
  {
   "cell_type": "code",
   "execution_count": 2,
   "id": "hearing-passage",
   "metadata": {},
   "outputs": [],
   "source": [
    "def click_event(event, x, y, flags, params): \n",
    "    if event == cv2.EVENT_LBUTTONDOWN: \n",
    "  \n",
    "        # displaying the coordinates \n",
    "        # on the Shell \n",
    "        print(x, ' ', y) \n",
    "  \n",
    "        # displaying the coordinates \n",
    "        # on the image window \n",
    "        font = cv2.FONT_HERSHEY_SIMPLEX \n",
    "        cv2.putText(img, str(x) + ',' +\n",
    "                    str(y), (x,y), font, \n",
    "                    1, (255, 0, 0), 2) \n",
    "        cv2.imshow('image', img) \n",
    "  \n",
    "    # checking for right mouse clicks      \n",
    "    if event==cv2.EVENT_RBUTTONDOWN: \n",
    "  \n",
    "        # displaying the coordinates \n",
    "        # on the Shell \n",
    "        print(x, ' ', y) \n",
    "  \n",
    "        # displaying the coordinates \n",
    "        # on the image window \n",
    "        font = cv2.FONT_HERSHEY_SIMPLEX \n",
    "        b = img[y, x, 0] \n",
    "        g = img[y, x, 1] \n",
    "        r = img[y, x, 2] \n",
    "        cv2.putText(img, str(b) + ',' +\n",
    "                    str(g) + ',' + str(r), \n",
    "                    (x,y), font, 1, \n",
    "                    (255, 255, 0), 2) \n",
    "        cv2.imshow('image', img) \n",
    "  "
   ]
  },
  {
   "cell_type": "code",
   "execution_count": 3,
   "id": "guided-rabbit",
   "metadata": {},
   "outputs": [],
   "source": [
    "if __name__==\"__main__\": \n",
    "  \n",
    "    # reading the image \n",
    "    img = cv2.imread('data/color_transfer_image/input/color_agri.jpg', 1) \n",
    "    bw_img = cv2.imread('data/color_transfer_image/input/bw_agri.jpg', 1) \n",
    "    cv2.imshow('image', bw_img) \n",
    "    \n",
    "#     # displaying the image \n",
    "#     cv2.imshow('image', img) \n",
    "  \n",
    "#     # setting mouse hadler for the image \n",
    "#     # and calling the click_event() function \n",
    "#     cv2.setMouseCallback('image', click_event) \n",
    "  \n",
    "#     # wait for a key to be pressed to exit \n",
    "#     cv2.waitKey(0) \n",
    "  \n",
    "#     # close the window \n",
    "#     cv2.destroyAllWindows() "
   ]
  },
  {
   "cell_type": "code",
   "execution_count": 4,
   "id": "arranged-hometown",
   "metadata": {},
   "outputs": [],
   "source": [
    "cv2.destroyAllWindows() "
   ]
  },
  {
   "cell_type": "code",
   "execution_count": null,
   "id": "chinese-manor",
   "metadata": {},
   "outputs": [],
   "source": []
  }
 ],
 "metadata": {
  "kernelspec": {
   "display_name": "Python 3",
   "language": "python",
   "name": "python3"
  },
  "language_info": {
   "codemirror_mode": {
    "name": "ipython",
    "version": 3
   },
   "file_extension": ".py",
   "mimetype": "text/x-python",
   "name": "python",
   "nbconvert_exporter": "python",
   "pygments_lexer": "ipython3",
   "version": "3.8.3"
  }
 },
 "nbformat": 4,
 "nbformat_minor": 5
}
