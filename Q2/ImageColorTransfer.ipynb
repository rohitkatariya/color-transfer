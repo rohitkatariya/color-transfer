{
 "cells": [
  {
   "cell_type": "code",
   "execution_count": 1,
   "id": "olive-surge",
   "metadata": {},
   "outputs": [],
   "source": [
    "import cv2\n",
    "%matplotlib inline\n",
    "#The line above is necesary to show Matplotlib's plots inside a Jupyter Notebook\n",
    "from matplotlib import pyplot as plt\n",
    "import os\n",
    "import random\n",
    "import pandas as pd\n",
    "import numpy as np\n",
    "import math\n",
    "from numpy import linalg as LA"
   ]
  },
  {
   "cell_type": "code",
   "execution_count": 2,
   "id": "excessive-serial",
   "metadata": {},
   "outputs": [],
   "source": [
    "from skimage import exposure\n",
    "import datetime"
   ]
  },
  {
   "cell_type": "code",
   "execution_count": 3,
   "id": "higher-leisure",
   "metadata": {},
   "outputs": [],
   "source": [
    "dir_color_transfer = 'data/color_transfer_image'\n",
    "dir_input = dir_color_transfer+'/input/'\n",
    "dir_output = dir_color_transfer+'/output/'"
   ]
  },
  {
   "cell_type": "code",
   "execution_count": 4,
   "id": "responsible-letters",
   "metadata": {},
   "outputs": [
    {
     "data": {
      "text/plain": [
       "[(0, 'watermellon'),\n",
       " (1, 'road2'),\n",
       " (2, 'road'),\n",
       " (3, 'ppr'),\n",
       " (4, 'ja'),\n",
       " (5, 'trees2'),\n",
       " (6, 'wheat'),\n",
       " (7, 'watermellon2'),\n",
       " (8, 'human'),\n",
       " (9, 'trees4'),\n",
       " (10, 'earth'),\n",
       " (11, 'house'),\n",
       " (12, 'trees3'),\n",
       " (13, 'trees'),\n",
       " (14, 'agri'),\n",
       " (15, 'mountain'),\n",
       " (16, 'road3')]"
      ]
     },
     "execution_count": 4,
     "metadata": {},
     "output_type": "execute_result"
    }
   ],
   "source": [
    "image_names_dict = [['color_'+z.split('_')[1],'bw_'+z.split('_')[1]] for z in os.listdir(dir_input) if z.startswith('bw')]\n",
    "[(k,v[0].split(\"_\")[1].split('.')[0]) for k,v in enumerate(image_names_dict)]"
   ]
  },
  {
   "cell_type": "code",
   "execution_count": 5,
   "id": "sensitive-characteristic",
   "metadata": {},
   "outputs": [
    {
     "data": {
      "text/plain": [
       "['color_ppr.jpg', 'bw_ppr.jpg']"
      ]
     },
     "execution_count": 5,
     "metadata": {},
     "output_type": "execute_result"
    }
   ],
   "source": [
    "this_pair = image_names_dict[3]\n",
    "this_pair"
   ]
  },
  {
   "cell_type": "code",
   "execution_count": 6,
   "id": "usual-overhead",
   "metadata": {},
   "outputs": [],
   "source": [
    "def read_image_pair(this_pair):\n",
    "    orig_image =cv2.imread(dir_input+this_pair[1],0)\n",
    "#     origLAB = cv2.cvtColor(orig_image, cv2.COLOR_BGR2Lab)\n",
    "    source_img =cv2.imread(dir_input+this_pair[0])\n",
    "    sourceLAB = cv2.cvtColor(source_img, cv2.COLOR_BGR2Lab)\n",
    "    return orig_image,sourceLAB"
   ]
  },
  {
   "cell_type": "code",
   "execution_count": 7,
   "id": "spatial-bronze",
   "metadata": {},
   "outputs": [],
   "source": [
    "# def getLabImage(source_img):\n",
    "#     brightLAB = cv2.cvtColor(source_img, cv2.COLOR_BGR2Lab)\n",
    "#     return brightLAB\n",
    "# def getHistogram(intensity_values):\n",
    "#     return pd.Series(intensity_values).value_counts()"
   ]
  },
  {
   "cell_type": "code",
   "execution_count": 8,
   "id": "through-constitutional",
   "metadata": {},
   "outputs": [],
   "source": [
    "# def visualizeLab(brightLAB):\n",
    "#     for i in range(3):\n",
    "#         l = brightLAB[:,:,i]\n",
    "#         plt.imshow(l)\n",
    "#         plt.show()"
   ]
  },
  {
   "cell_type": "code",
   "execution_count": 9,
   "id": "victorian-scenario",
   "metadata": {},
   "outputs": [],
   "source": [
    "def applyLuminanceRemapping(orig_image,sourceLAB):\n",
    "    #hist_source =  getHistogram(sourceLAB[:,:,0].reshape(-1))\n",
    "    #hist_orig = getHistogram(orig_image.reshape(-1))\n",
    "    #hist_source = hist_source.sort_index()\n",
    "    #hist_orig = hist_orig.sort_index()\n",
    "    # plt.bar(s.index,s)\n",
    "    matched2 = exposure.match_histograms( sourceLAB[:,:,0],orig_image, multichannel=False)\n",
    "    #m2 = getHistogram(matched2.reshape(-1))\n",
    "    #m2 = m2.sort_index()\n",
    "    #plt.bar(m2.index,m2)\n",
    "    return matched2"
   ]
  },
  {
   "cell_type": "code",
   "execution_count": 10,
   "id": "vertical-pocket",
   "metadata": {},
   "outputs": [],
   "source": [
    "def get_jittered_sampling(source_image):\n",
    "    m,n=source_image.shape()[0:1]"
   ]
  },
  {
   "cell_type": "code",
   "execution_count": null,
   "id": "active-italic",
   "metadata": {},
   "outputs": [],
   "source": []
  },
  {
   "cell_type": "code",
   "execution_count": 11,
   "id": "usual-palace",
   "metadata": {},
   "outputs": [],
   "source": [
    "orig_image,source_img_lab = read_image_pair(this_pair)"
   ]
  },
  {
   "cell_type": "code",
   "execution_count": 12,
   "id": "faced-national",
   "metadata": {},
   "outputs": [],
   "source": [
    "sourceLAB = source_img_lab"
   ]
  },
  {
   "cell_type": "code",
   "execution_count": 13,
   "id": "bound-indie",
   "metadata": {},
   "outputs": [],
   "source": [
    "l_remaped = applyLuminanceRemapping(orig_image,sourceLAB)\n",
    "sourceLAB[:,:,0] = l_remaped"
   ]
  },
  {
   "cell_type": "code",
   "execution_count": null,
   "id": "established-batman",
   "metadata": {},
   "outputs": [],
   "source": []
  },
  {
   "cell_type": "code",
   "execution_count": 14,
   "id": "funded-tuesday",
   "metadata": {},
   "outputs": [],
   "source": [
    "m,n=sourceLAB.shape[0:2]\n",
    "square_side = math.floor(math.sqrt(m*n/1000))\n",
    "x_start = 0\n",
    "y_start = 0\n",
    "gridded_image = sourceLAB\n",
    "square_starts_x = []\n",
    "square_starts_y = []\n",
    "while y_start<m:\n",
    "    # gridded_image = cv2.line(gridded_image, (0,y_start), (n-1,y_start), (0,0,255),1 )\n",
    "    square_starts_y.append(y_start)\n",
    "    y_start+=square_side\n",
    "\n",
    "while x_start<n:\n",
    "    #gridded_image = cv2.line(gridded_image, (x_start,0), (x_start,m-1 ), (0,0,255),1 )\n",
    "    square_starts_x.append(x_start)\n",
    "    x_start+=square_side"
   ]
  },
  {
   "cell_type": "code",
   "execution_count": 15,
   "id": "ongoing-bailey",
   "metadata": {},
   "outputs": [],
   "source": [
    "# generating sample points\n",
    "sample_points = []\n",
    "for y_start in square_starts_y:\n",
    "    for x_start in square_starts_x:\n",
    "        random.randint(0, min(square_side,n-1-x_start))\n",
    "        random.randint(0, min(square_side,m-1-y_start))\n",
    "        random_pertubations = (random.randint(0, min(square_side,n-1-x_start)),random.randint(0, min(square_side,m-1-y_start)))\n",
    "        this_sample = (x_start+random_pertubations[0],y_start+random_pertubations[1])\n",
    "        sample_points.append(this_sample)\n",
    "        #gridded_image = cv2.circle(gridded_image, this_sample[:2], radius=0, color=(255, 255, 255), thickness=-1)"
   ]
  },
  {
   "cell_type": "code",
   "execution_count": 16,
   "id": "bibliographic-pilot",
   "metadata": {},
   "outputs": [
    {
     "data": {
      "text/plain": [
       "1204"
      ]
     },
     "execution_count": 16,
     "metadata": {},
     "output_type": "execute_result"
    }
   ],
   "source": [
    "len(sample_points)"
   ]
  },
  {
   "cell_type": "code",
   "execution_count": 17,
   "id": "grave-orange",
   "metadata": {},
   "outputs": [],
   "source": [
    "def get_point_statistics(this_sample_point,sourceLAB):\n",
    "    m,n=sourceLAB.shape[0:2]\n",
    "    this_pt = sourceLAB[this_sample_point[1],this_sample_point[0]]\n",
    "    if sourceLAB.shape[-1]==3:\n",
    "        l_val,a_val,b_val = this_pt\n",
    "    else:\n",
    "        l_val= this_pt\n",
    "        a_val,b_val =0,0\n",
    "    frame_size = 11\n",
    "    start_point = max(0,this_sample_point[0]-frame_size//2),max(0,this_sample_point[1]-frame_size//2)\n",
    "    end_point = min(n-1,this_sample_point[0]+frame_size//2),min(m-1,this_sample_point[1]+frame_size//2)\n",
    "    if sourceLAB.shape[-1]==3:\n",
    "        nbhood = sourceLAB[start_point[1]:end_point[1]+1,start_point[0]:end_point[0]+1,0]\n",
    "    else:\n",
    "        nbhood = sourceLAB[start_point[1]:end_point[1]+1,start_point[0]:end_point[0]+1]\n",
    "    var_this = np.std(nbhood)\n",
    "    point_statistics = (int(l_val),a_val,b_val,var_this)\n",
    "    return point_statistics\n",
    "    "
   ]
  },
  {
   "cell_type": "code",
   "execution_count": 18,
   "id": "broadband-circulation",
   "metadata": {},
   "outputs": [],
   "source": [
    "all_point_stats=[]\n",
    "for this_point in sample_points:\n",
    "    this_point_stats = get_point_statistics(this_point,sourceLAB)\n",
    "    all_point_stats.append(this_point_stats)\n"
   ]
  },
  {
   "cell_type": "code",
   "execution_count": 19,
   "id": "downtown-shark",
   "metadata": {},
   "outputs": [
    {
     "data": {
      "text/plain": [
       "(168, 258)"
      ]
     },
     "execution_count": 19,
     "metadata": {},
     "output_type": "execute_result"
    }
   ],
   "source": [
    "m_orig,n_orig = orig_image.shape\n",
    "transferedImage = np.zeros([m_orig,n_orig,3])\n",
    "m_orig,n_orig"
   ]
  },
  {
   "cell_type": "code",
   "execution_count": 20,
   "id": "digital-teach",
   "metadata": {},
   "outputs": [],
   "source": [
    "def get_closest_chromatics(orig_point_stats,all_sample_point_stats):\n",
    "    closest_d = float('inf')\n",
    "    chromatics_closest = (-1,-1)\n",
    "    for this_sample_point in all_sample_point_stats:\n",
    "        l_diff = this_sample_point[0] - orig_point_stats[0]\n",
    "        var_diff = this_sample_point[3] - orig_point_stats[3]\n",
    "        d_this = l_diff**2+var_diff**2\n",
    "        if d_this<closest_d:\n",
    "            closest_d = d_this\n",
    "            chromatics_closest = this_sample_point[1],this_sample_point[2]\n",
    "    return chromatics_closest"
   ]
  },
  {
   "cell_type": "code",
   "execution_count": null,
   "id": "identified-sodium",
   "metadata": {},
   "outputs": [],
   "source": []
  },
  {
   "cell_type": "code",
   "execution_count": 21,
   "id": "compressed-producer",
   "metadata": {},
   "outputs": [
    {
     "name": "stdout",
     "output_type": "stream",
     "text": [
      "(168, 258)\n",
      "0\n",
      "100\n"
     ]
    }
   ],
   "source": [
    "#iterating over image and applying color transfer\n",
    "np_all_point_stats = np.array(all_point_stats)\n",
    "print(orig_image.shape)\n",
    "for i in range(m_orig):\n",
    "    if i%100==0:\n",
    "        print(i)\n",
    "    for j in range(n_orig):\n",
    "        transferedImage[i][j][0]=orig_image[i][j]\n",
    "        # print((i,j),orig_image.shape)\n",
    "        orig_point_stats =get_point_statistics((j,i),orig_image)\n",
    "        diff = np_all_point_stats[:,[0,3]] - (orig_point_stats[0],orig_point_stats[3])\n",
    "        idx_min_match = np.argmin(LA.norm(diff,axis=1))\n",
    "        a_val,b_val = all_point_stats[idx_min_match][1:3]\n",
    "        transferedImage[i][j][1] = a_val\n",
    "        transferedImage[i][j][2] = b_val\n",
    "#         break\n",
    "#     break"
   ]
  },
  {
   "cell_type": "code",
   "execution_count": 22,
   "id": "coordinate-shopping",
   "metadata": {},
   "outputs": [],
   "source": [
    "# for i in range(m_orig) :\n",
    "#     for j in range(n_orig) :\n",
    "#         for k in range(3):\n",
    "#             transferedImage[i][j][k]= np.uint8(transferedImage[i][j][k])\n",
    "# #             if transferedImage[i][j][k]>255:\n",
    "# #                 transferedImage[i][j][k]=255\n",
    "# #             if transferedImage[i][j][k]<0:\n",
    "# #                 transferedImage[i][j][k]=0"
   ]
  },
  {
   "cell_type": "code",
   "execution_count": 23,
   "id": "sized-mexico",
   "metadata": {},
   "outputs": [],
   "source": [
    "# transferedImage.shape"
   ]
  },
  {
   "cell_type": "code",
   "execution_count": 24,
   "id": "extra-valentine",
   "metadata": {},
   "outputs": [
    {
     "data": {
      "text/plain": [
       "True"
      ]
     },
     "execution_count": 24,
     "metadata": {},
     "output_type": "execute_result"
    }
   ],
   "source": [
    "transferedImage_rgb = cv2.cvtColor(transferedImage.astype('uint8'), cv2.COLOR_Lab2BGR)\n",
    "cv2.imwrite(dir_output+'{}ti_{}'.format(datetime.datetime.now().strftime(\"%H_%M_%S\"),this_pair[0].split(\"_\")[1]), transferedImage_rgb)"
   ]
  },
  {
   "cell_type": "code",
   "execution_count": 25,
   "id": "fitted-billy",
   "metadata": {},
   "outputs": [],
   "source": [
    "# orig_image = cv2.cvtColor(transferedImage_rgb, cv2.COLOR_BGR2RGB)\n",
    "# plt.imshow(orig_image)\n",
    "# plt.show()"
   ]
  },
  {
   "cell_type": "code",
   "execution_count": 26,
   "id": "interracial-scotland",
   "metadata": {},
   "outputs": [],
   "source": [
    "# plt.imshow(transferedImage.astype('uint8'))\n",
    "# plt.show()"
   ]
  },
  {
   "cell_type": "code",
   "execution_count": null,
   "id": "square-mumbai",
   "metadata": {},
   "outputs": [],
   "source": []
  },
  {
   "cell_type": "code",
   "execution_count": null,
   "id": "minor-horse",
   "metadata": {},
   "outputs": [],
   "source": []
  }
 ],
 "metadata": {
  "kernelspec": {
   "display_name": "Python 3",
   "language": "python",
   "name": "python3"
  },
  "language_info": {
   "codemirror_mode": {
    "name": "ipython",
    "version": 3
   },
   "file_extension": ".py",
   "mimetype": "text/x-python",
   "name": "python",
   "nbconvert_exporter": "python",
   "pygments_lexer": "ipython3",
   "version": "3.8.3"
  }
 },
 "nbformat": 4,
 "nbformat_minor": 5
}
